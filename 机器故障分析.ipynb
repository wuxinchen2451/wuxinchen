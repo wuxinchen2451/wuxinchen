{
 "cells": [
  {
   "cell_type": "markdown",
   "metadata": {
    "papermill": {
     "duration": 0.014359,
     "end_time": "2023-06-23T11:28:33.627175",
     "exception": false,
     "start_time": "2023-06-23T11:28:33.612816",
     "status": "completed"
    },
    "tags": []
   },
   "source": [
    "# Libs import"
   ]
  },
  {
   "cell_type": "code",
   "execution_count": 1,
   "metadata": {
    "_cell_guid": "b1076dfc-b9ad-4769-8c92-a6c4dae69d19",
    "_uuid": "8f2839f25d086af736a60e9eeb907d3b93b6e0e5",
    "execution": {
     "iopub.execute_input": "2023-06-23T11:28:33.645924Z",
     "iopub.status.busy": "2023-06-23T11:28:33.644743Z",
     "iopub.status.idle": "2023-06-23T11:28:36.058693Z",
     "shell.execute_reply": "2023-06-23T11:28:36.057730Z"
    },
    "papermill": {
     "duration": 2.42528,
     "end_time": "2023-06-23T11:28:36.060812",
     "exception": false,
     "start_time": "2023-06-23T11:28:33.635532",
     "status": "completed"
    },
    "tags": []
   },
   "outputs": [],
   "source": [
    "import numpy as np\n",
    "import pandas as pd\n",
    "import phik\n",
    "from catboost import Pool\n",
    "from sklearn.model_selection import train_test_split\n",
    "from sklearn.metrics import log_loss\n",
    "from catboost import CatBoostClassifier\n",
    "from sklearn.metrics import accuracy_score\n",
    "import seaborn as sns"
   ]
  },
  {
   "cell_type": "markdown",
   "metadata": {
    "papermill": {
     "duration": 0.007821,
     "end_time": "2023-06-23T11:28:36.076782",
     "exception": false,
     "start_time": "2023-06-23T11:28:36.068961",
     "status": "completed"
    },
    "tags": []
   },
   "source": [
    "# Loading data"
   ]
  },
  {
   "cell_type": "code",
   "execution_count": 2,
   "metadata": {
    "execution": {
     "iopub.execute_input": "2023-06-23T11:28:36.095755Z",
     "iopub.status.busy": "2023-06-23T11:28:36.094472Z",
     "iopub.status.idle": "2023-06-23T11:28:36.438717Z",
     "shell.execute_reply": "2023-06-23T11:28:36.437464Z"
    },
    "papermill": {
     "duration": 0.356052,
     "end_time": "2023-06-23T11:28:36.441096",
     "exception": false,
     "start_time": "2023-06-23T11:28:36.085044",
     "status": "completed"
    },
    "tags": []
   },
   "outputs": [],
   "source": [
    "main_df = pd.read_csv('train.csv')\n",
    "submission = pd.read_csv('test.csv')"
   ]
  },
  {
   "cell_type": "code",
   "execution_count": 3,
   "metadata": {
    "execution": {
     "iopub.execute_input": "2023-06-23T11:28:36.460831Z",
     "iopub.status.busy": "2023-06-23T11:28:36.460208Z",
     "iopub.status.idle": "2023-06-23T11:28:36.534155Z",
     "shell.execute_reply": "2023-06-23T11:28:36.533192Z"
    },
    "papermill": {
     "duration": 0.086618,
     "end_time": "2023-06-23T11:28:36.536214",
     "exception": false,
     "start_time": "2023-06-23T11:28:36.449596",
     "status": "completed"
    },
    "tags": []
   },
   "outputs": [
    {
     "name": "stdout",
     "output_type": "stream",
     "text": [
      "<class 'pandas.core.frame.DataFrame'>\n",
      "RangeIndex: 136429 entries, 0 to 136428\n",
      "Data columns (total 14 columns):\n",
      " #   Column                   Non-Null Count   Dtype  \n",
      "---  ------                   --------------   -----  \n",
      " 0   id                       136429 non-null  int64  \n",
      " 1   Product ID               136429 non-null  object \n",
      " 2   Type                     136429 non-null  object \n",
      " 3   Air temperature [K]      136429 non-null  float64\n",
      " 4   Process temperature [K]  136429 non-null  float64\n",
      " 5   Rotational speed [rpm]   136429 non-null  int64  \n",
      " 6   Torque [Nm]              136429 non-null  float64\n",
      " 7   Tool wear [min]          136429 non-null  int64  \n",
      " 8   Machine failure          136429 non-null  int64  \n",
      " 9   TWF                      136429 non-null  int64  \n",
      " 10  HDF                      136429 non-null  int64  \n",
      " 11  PWF                      136429 non-null  int64  \n",
      " 12  OSF                      136429 non-null  int64  \n",
      " 13  RNF                      136429 non-null  int64  \n",
      "dtypes: float64(3), int64(9), object(2)\n",
      "memory usage: 14.6+ MB\n"
     ]
    }
   ],
   "source": [
    "main_df.info()"
   ]
  },
  {
   "cell_type": "code",
   "execution_count": 4,
   "metadata": {
    "execution": {
     "iopub.execute_input": "2023-06-23T11:28:36.555165Z",
     "iopub.status.busy": "2023-06-23T11:28:36.554769Z",
     "iopub.status.idle": "2023-06-23T11:28:36.594448Z",
     "shell.execute_reply": "2023-06-23T11:28:36.593472Z"
    },
    "papermill": {
     "duration": 0.05173,
     "end_time": "2023-06-23T11:28:36.596526",
     "exception": false,
     "start_time": "2023-06-23T11:28:36.544796",
     "status": "completed"
    },
    "tags": []
   },
   "outputs": [
    {
     "name": "stdout",
     "output_type": "stream",
     "text": [
      "<class 'pandas.core.frame.DataFrame'>\n",
      "RangeIndex: 90954 entries, 0 to 90953\n",
      "Data columns (total 13 columns):\n",
      " #   Column                   Non-Null Count  Dtype  \n",
      "---  ------                   --------------  -----  \n",
      " 0   id                       90954 non-null  int64  \n",
      " 1   Product ID               90954 non-null  object \n",
      " 2   Type                     90954 non-null  object \n",
      " 3   Air temperature [K]      90954 non-null  float64\n",
      " 4   Process temperature [K]  90954 non-null  float64\n",
      " 5   Rotational speed [rpm]   90954 non-null  int64  \n",
      " 6   Torque [Nm]              90954 non-null  float64\n",
      " 7   Tool wear [min]          90954 non-null  int64  \n",
      " 8   TWF                      90954 non-null  int64  \n",
      " 9   HDF                      90954 non-null  int64  \n",
      " 10  PWF                      90954 non-null  int64  \n",
      " 11  OSF                      90954 non-null  int64  \n",
      " 12  RNF                      90954 non-null  int64  \n",
      "dtypes: float64(3), int64(8), object(2)\n",
      "memory usage: 9.0+ MB\n"
     ]
    }
   ],
   "source": [
    "submission.info()"
   ]
  },
  {
   "cell_type": "markdown",
   "metadata": {
    "papermill": {
     "duration": 0.008277,
     "end_time": "2023-06-23T11:28:36.613357",
     "exception": false,
     "start_time": "2023-06-23T11:28:36.605080",
     "status": "completed"
    },
    "tags": []
   },
   "source": [
    "# ETL"
   ]
  },
  {
   "cell_type": "code",
   "execution_count": 5,
   "metadata": {
    "execution": {
     "iopub.execute_input": "2023-06-23T11:28:36.632090Z",
     "iopub.status.busy": "2023-06-23T11:28:36.631450Z",
     "iopub.status.idle": "2023-06-23T11:28:36.658993Z",
     "shell.execute_reply": "2023-06-23T11:28:36.657182Z"
    },
    "papermill": {
     "duration": 0.040002,
     "end_time": "2023-06-23T11:28:36.661628",
     "exception": false,
     "start_time": "2023-06-23T11:28:36.621626",
     "status": "completed"
    },
    "tags": []
   },
   "outputs": [],
   "source": [
    "main_df['Speed_new'] = np.log(main_df['Rotational speed [rpm]'])\n",
    "submission['Speed_new'] = np.log(submission['Rotational speed [rpm]'])\n",
    "main_df['Power'] = main_df['Torque [Nm]']*main_df['Rotational speed [rpm]']\n",
    "submission['Power'] = submission['Torque [Nm]']*submission['Rotational speed [rpm]']\n",
    "main_df['TF'] = main_df[['TWF', 'HDF', 'PWF', 'OSF', 'RNF']].sum(axis=1)\n",
    "submission['TF'] = submission[['TWF', 'HDF', 'PWF', 'OSF', 'RNF']].sum(axis=1)\n",
    "main_df['TemperatureDifference'] = main_df['Process temperature [K]'] - main_df['Air temperature [K]']\n",
    "submission['TemperatureDifference'] = submission['Process temperature [K]'] - submission['Air temperature [K]']\n",
    "main_df['TemperatureRatio'] = main_df['Process temperature [K]'] / main_df['Air temperature [K]']\n",
    "submission['TemperatureRatio'] = submission['Process temperature [K]'] / submission['Air temperature [K]']"
   ]
  },
  {
   "cell_type": "code",
   "execution_count": 6,
   "metadata": {
    "execution": {
     "iopub.execute_input": "2023-06-23T11:28:36.680536Z",
     "iopub.status.busy": "2023-06-23T11:28:36.680225Z",
     "iopub.status.idle": "2023-06-23T11:28:36.688475Z",
     "shell.execute_reply": "2023-06-23T11:28:36.686636Z"
    },
    "papermill": {
     "duration": 0.020618,
     "end_time": "2023-06-23T11:28:36.691174",
     "exception": false,
     "start_time": "2023-06-23T11:28:36.670556",
     "status": "completed"
    },
    "tags": []
   },
   "outputs": [
    {
     "data": {
      "text/plain": [
       "Index(['id', 'Product ID', 'Type', 'Air temperature [K]',\n",
       "       'Process temperature [K]', 'Rotational speed [rpm]', 'Torque [Nm]',\n",
       "       'Tool wear [min]', 'Machine failure', 'TWF', 'HDF', 'PWF', 'OSF', 'RNF',\n",
       "       'Speed_new', 'Power', 'TF', 'TemperatureDifference',\n",
       "       'TemperatureRatio'],\n",
       "      dtype='object')"
      ]
     },
     "execution_count": 6,
     "metadata": {},
     "output_type": "execute_result"
    }
   ],
   "source": [
    "main_df.columns"
   ]
  },
  {
   "cell_type": "code",
   "execution_count": 7,
   "metadata": {
    "execution": {
     "iopub.execute_input": "2023-06-23T11:28:36.710668Z",
     "iopub.status.busy": "2023-06-23T11:28:36.710328Z",
     "iopub.status.idle": "2023-06-23T11:29:01.287604Z",
     "shell.execute_reply": "2023-06-23T11:29:01.286745Z"
    },
    "papermill": {
     "duration": 24.589665,
     "end_time": "2023-06-23T11:29:01.290046",
     "exception": false,
     "start_time": "2023-06-23T11:28:36.700381",
     "status": "completed"
    },
    "tags": []
   },
   "outputs": [
    {
     "name": "stdout",
     "output_type": "stream",
     "text": [
      "interval columns not set, guessing: ['Air temperature [K]', 'Process temperature [K]', 'Rotational speed [rpm]', 'Torque [Nm]', 'Tool wear [min]', 'Machine failure', 'TWF', 'HDF', 'PWF', 'OSF', 'RNF', 'Speed_new', 'Power', 'TF', 'TemperatureDifference', 'TemperatureRatio']\n"
     ]
    },
    {
     "name": "stderr",
     "output_type": "stream",
     "text": [
      "/opt/conda/lib/python3.10/site-packages/phik/data_quality.py:59: UserWarning: The number of unique values of variable Product ID is large: 9976. Are you sure this is not an interval variable? Analysis for pairs of variables including Product ID can be slow.\n",
      "  warnings.warn(\n"
     ]
    }
   ],
   "source": [
    "phik_overview = main_df[['Type', 'Product ID', 'Air temperature [K]',\n",
    "       'Process temperature [K]', 'Rotational speed [rpm]', 'Torque [Nm]',\n",
    "       'Tool wear [min]', 'Machine failure', 'TWF', 'HDF', 'PWF', 'OSF',\n",
    "       'RNF', 'Speed_new', 'Power', 'TF', 'TemperatureDifference',\n",
    "       'TemperatureRatio']].phik_matrix()"
   ]
  },
  {
   "cell_type": "code",
   "execution_count": 8,
   "metadata": {
    "execution": {
     "iopub.execute_input": "2023-06-23T11:29:01.309315Z",
     "iopub.status.busy": "2023-06-23T11:29:01.308944Z",
     "iopub.status.idle": "2023-06-23T11:29:01.318613Z",
     "shell.execute_reply": "2023-06-23T11:29:01.317172Z"
    },
    "papermill": {
     "duration": 0.022311,
     "end_time": "2023-06-23T11:29:01.321338",
     "exception": false,
     "start_time": "2023-06-23T11:29:01.299027",
     "status": "completed"
    },
    "tags": []
   },
   "outputs": [
    {
     "data": {
      "text/plain": [
       "Machine failure            1.000000\n",
       "TF                         0.950224\n",
       "HDF                        0.774598\n",
       "OSF                        0.700630\n",
       "PWF                        0.566404\n",
       "TWF                        0.469542\n",
       "Torque [Nm]                0.423334\n",
       "Product ID                 0.409150\n",
       "Speed_new                  0.306703\n",
       "Rotational speed [rpm]     0.302614\n",
       "Power                      0.286943\n",
       "Tool wear [min]            0.166201\n",
       "TemperatureRatio           0.163337\n",
       "TemperatureDifference      0.161562\n",
       "Air temperature [K]        0.143185\n",
       "Process temperature [K]    0.062449\n",
       "Type                       0.006897\n",
       "RNF                        0.000000\n",
       "Name: Machine failure, dtype: float64"
      ]
     },
     "execution_count": 8,
     "metadata": {},
     "output_type": "execute_result"
    }
   ],
   "source": [
    "phik_overview['Machine failure'].sort_values(ascending=False)"
   ]
  },
  {
   "cell_type": "markdown",
   "metadata": {
    "papermill": {
     "duration": 0.008221,
     "end_time": "2023-06-23T11:29:01.338632",
     "exception": false,
     "start_time": "2023-06-23T11:29:01.330411",
     "status": "completed"
    },
    "tags": []
   },
   "source": [
    "### Let's check class balance"
   ]
  },
  {
   "cell_type": "code",
   "execution_count": 9,
   "metadata": {
    "execution": {
     "iopub.execute_input": "2023-06-23T11:29:01.358194Z",
     "iopub.status.busy": "2023-06-23T11:29:01.357485Z",
     "iopub.status.idle": "2023-06-23T11:29:01.364497Z",
     "shell.execute_reply": "2023-06-23T11:29:01.363611Z"
    },
    "papermill": {
     "duration": 0.019381,
     "end_time": "2023-06-23T11:29:01.366654",
     "exception": false,
     "start_time": "2023-06-23T11:29:01.347273",
     "status": "completed"
    },
    "tags": []
   },
   "outputs": [
    {
     "data": {
      "text/plain": [
       "0.01574445315878589"
      ]
     },
     "execution_count": 9,
     "metadata": {},
     "output_type": "execute_result"
    }
   ],
   "source": [
    "main_df['Machine failure'].mean()"
   ]
  },
  {
   "cell_type": "code",
   "execution_count": 10,
   "metadata": {
    "execution": {
     "iopub.execute_input": "2023-06-23T11:29:01.386822Z",
     "iopub.status.busy": "2023-06-23T11:29:01.386373Z",
     "iopub.status.idle": "2023-06-23T11:29:01.397857Z",
     "shell.execute_reply": "2023-06-23T11:29:01.396614Z"
    },
    "papermill": {
     "duration": 0.024647,
     "end_time": "2023-06-23T11:29:01.400456",
     "exception": false,
     "start_time": "2023-06-23T11:29:01.375809",
     "status": "completed"
    },
    "tags": []
   },
   "outputs": [
    {
     "data": {
      "text/plain": [
       "2148"
      ]
     },
     "execution_count": 10,
     "metadata": {},
     "output_type": "execute_result"
    }
   ],
   "source": [
    "main_df[main_df['Machine failure'] == 1]['Machine failure'].count()"
   ]
  },
  {
   "cell_type": "code",
   "execution_count": 11,
   "metadata": {
    "execution": {
     "iopub.execute_input": "2023-06-23T11:29:01.422388Z",
     "iopub.status.busy": "2023-06-23T11:29:01.421256Z",
     "iopub.status.idle": "2023-06-23T11:29:01.472135Z",
     "shell.execute_reply": "2023-06-23T11:29:01.470797Z"
    },
    "papermill": {
     "duration": 0.064735,
     "end_time": "2023-06-23T11:29:01.474291",
     "exception": false,
     "start_time": "2023-06-23T11:29:01.409556",
     "status": "completed"
    },
    "tags": []
   },
   "outputs": [
    {
     "name": "stdout",
     "output_type": "stream",
     "text": [
      "Type: 3\n",
      "Air temperature [K]: 95\n",
      "Product ID: 9976\n",
      "Process temperature [K]: 81\n",
      "Rotational speed [rpm]: 952\n",
      "Torque [Nm]: 611\n",
      "Tool wear [min]: 246\n",
      "Machine failure: 2\n",
      "TWF: 2\n",
      "HDF: 2\n",
      "PWF: 2\n",
      "OSF: 2\n",
      "RNF: 2\n",
      "Speed_new: 952\n",
      "Power: 48528\n",
      "TF: 4\n",
      "TemperatureDifference: 120\n",
      "TemperatureRatio: 2165\n"
     ]
    }
   ],
   "source": [
    "cols = ['Type', 'Air temperature [K]', 'Product ID',\n",
    "       'Process temperature [K]', 'Rotational speed [rpm]', 'Torque [Nm]',\n",
    "       'Tool wear [min]', 'Machine failure', 'TWF', 'HDF', 'PWF', 'OSF',\n",
    "       'RNF', 'Speed_new', 'Power', 'TF', 'TemperatureDifference',\n",
    "       'TemperatureRatio']\n",
    "for col in cols:\n",
    "    print(f'{col}: ' + str(main_df[col].nunique()))"
   ]
  },
  {
   "cell_type": "code",
   "execution_count": 12,
   "metadata": {
    "execution": {
     "iopub.execute_input": "2023-06-23T11:29:01.493978Z",
     "iopub.status.busy": "2023-06-23T11:29:01.493637Z",
     "iopub.status.idle": "2023-06-23T11:29:01.552282Z",
     "shell.execute_reply": "2023-06-23T11:29:01.550902Z"
    },
    "papermill": {
     "duration": 0.071564,
     "end_time": "2023-06-23T11:29:01.555041",
     "exception": false,
     "start_time": "2023-06-23T11:29:01.483477",
     "status": "completed"
    },
    "tags": []
   },
   "outputs": [
    {
     "name": "stdout",
     "output_type": "stream",
     "text": [
      "Air temperature [K]:Machine failure\n",
      "0    299.846820\n",
      "1    300.860242\n",
      "Name: Air temperature [K], dtype: float64\n",
      "Process temperature [K]:Machine failure\n",
      "0    309.935645\n",
      "1    310.280214\n",
      "Name: Process temperature [K], dtype: float64\n",
      "Rotational speed [rpm]:Machine failure\n",
      "0    1521.399148\n",
      "1    1453.563315\n",
      "Name: Rotational speed [rpm], dtype: float64\n",
      "Torque [Nm]:Machine failure\n",
      "0    40.191867\n",
      "1    50.149395\n",
      "Name: Torque [Nm], dtype: float64\n",
      "Tool wear [min]:Machine failure\n",
      "0    103.952234\n",
      "1    132.957169\n",
      "Name: Tool wear [min], dtype: float64\n",
      "Machine failure:Machine failure\n",
      "0    0.0\n",
      "1    1.0\n",
      "Name: Machine failure, dtype: float64\n",
      "TWF:Machine failure\n",
      "0    0.000000\n",
      "1    0.098696\n",
      "Name: TWF, dtype: float64\n",
      "HDF:Machine failure\n",
      "0    0.000045\n",
      "1    0.324953\n",
      "Name: HDF, dtype: float64\n",
      "PWF:Machine failure\n",
      "0    0.000022\n",
      "1    0.150838\n",
      "Name: PWF, dtype: float64\n",
      "OSF:Machine failure\n",
      "0    0.000030\n",
      "1    0.249534\n",
      "Name: OSF, dtype: float64\n",
      "RNF:Machine failure\n",
      "0    0.002249\n",
      "1    0.002793\n",
      "Name: RNF, dtype: float64\n",
      "Speed_new:Machine failure\n",
      "0    7.323735\n",
      "1    7.268096\n",
      "Name: Speed_new, dtype: float64\n",
      "Power:Machine failure\n",
      "0    60269.381095\n",
      "1    70086.987849\n",
      "Name: Power, dtype: float64\n",
      "TF:Machine failure\n",
      "0    0.002346\n",
      "1    0.826816\n",
      "Name: TF, dtype: float64\n",
      "TemperatureDifference:Machine failure\n",
      "0    10.088825\n",
      "1     9.419972\n",
      "Name: TemperatureDifference, dtype: float64\n",
      "TemperatureRatio:Machine failure\n",
      "0    1.033662\n",
      "1    1.031333\n",
      "Name: TemperatureRatio, dtype: float64\n"
     ]
    }
   ],
   "source": [
    "for col in cols:\n",
    "    if main_df[col].dtype in ['int64', 'float64']:\n",
    "        print(f'{col}:' + str(main_df.groupby('Machine failure')[col].agg('mean')))"
   ]
  },
  {
   "cell_type": "markdown",
   "metadata": {
    "papermill": {
     "duration": 0.008892,
     "end_time": "2023-06-23T11:29:01.573946",
     "exception": false,
     "start_time": "2023-06-23T11:29:01.565054",
     "status": "completed"
    },
    "tags": []
   },
   "source": [
    "# Data preparation"
   ]
  },
  {
   "cell_type": "code",
   "execution_count": 13,
   "metadata": {
    "execution": {
     "iopub.execute_input": "2023-06-23T11:29:01.594743Z",
     "iopub.status.busy": "2023-06-23T11:29:01.594030Z",
     "iopub.status.idle": "2023-06-23T11:29:01.717249Z",
     "shell.execute_reply": "2023-06-23T11:29:01.716260Z"
    },
    "papermill": {
     "duration": 0.136441,
     "end_time": "2023-06-23T11:29:01.719763",
     "exception": false,
     "start_time": "2023-06-23T11:29:01.583322",
     "status": "completed"
    },
    "tags": []
   },
   "outputs": [],
   "source": [
    "df, test = train_test_split(main_df, test_size=0.20, stratify=main_df['Machine failure'], random_state=42)\n",
    "train, val = train_test_split(df, test_size=0.25, stratify=df['Machine failure'], random_state=42)"
   ]
  },
  {
   "cell_type": "code",
   "execution_count": 14,
   "metadata": {
    "execution": {
     "iopub.execute_input": "2023-06-23T11:29:01.740196Z",
     "iopub.status.busy": "2023-06-23T11:29:01.739341Z",
     "iopub.status.idle": "2023-06-23T11:29:01.746991Z",
     "shell.execute_reply": "2023-06-23T11:29:01.745594Z"
    },
    "papermill": {
     "duration": 0.020433,
     "end_time": "2023-06-23T11:29:01.749328",
     "exception": false,
     "start_time": "2023-06-23T11:29:01.728895",
     "status": "completed"
    },
    "tags": []
   },
   "outputs": [
    {
     "data": {
      "text/plain": [
       "(0.015734756954200617, 0.015758997287986513, 0.015758997287986513)"
      ]
     },
     "execution_count": 14,
     "metadata": {},
     "output_type": "execute_result"
    }
   ],
   "source": [
    "train['Machine failure'].mean(), val['Machine failure'].mean(), test['Machine failure'].mean()"
   ]
  },
  {
   "cell_type": "code",
   "execution_count": 15,
   "metadata": {
    "execution": {
     "iopub.execute_input": "2023-06-23T11:29:01.770153Z",
     "iopub.status.busy": "2023-06-23T11:29:01.769749Z",
     "iopub.status.idle": "2023-06-23T11:29:01.778120Z",
     "shell.execute_reply": "2023-06-23T11:29:01.777077Z"
    },
    "papermill": {
     "duration": 0.02115,
     "end_time": "2023-06-23T11:29:01.780009",
     "exception": false,
     "start_time": "2023-06-23T11:29:01.758859",
     "status": "completed"
    },
    "tags": []
   },
   "outputs": [
    {
     "data": {
      "text/plain": [
       "(81857, 27286, 27286, True)"
      ]
     },
     "execution_count": 15,
     "metadata": {},
     "output_type": "execute_result"
    }
   ],
   "source": [
    "len(train), len(val), len(test), sum([len(train), len(val), len(test)])==len(main_df)"
   ]
  },
  {
   "cell_type": "code",
   "execution_count": 16,
   "metadata": {
    "execution": {
     "iopub.execute_input": "2023-06-23T11:29:01.800673Z",
     "iopub.status.busy": "2023-06-23T11:29:01.800332Z",
     "iopub.status.idle": "2023-06-23T11:29:01.807021Z",
     "shell.execute_reply": "2023-06-23T11:29:01.806153Z"
    },
    "papermill": {
     "duration": 0.019207,
     "end_time": "2023-06-23T11:29:01.808944",
     "exception": false,
     "start_time": "2023-06-23T11:29:01.789737",
     "status": "completed"
    },
    "tags": []
   },
   "outputs": [
    {
     "data": {
      "text/plain": [
       "Index(['id', 'Product ID', 'Type', 'Air temperature [K]',\n",
       "       'Process temperature [K]', 'Rotational speed [rpm]', 'Torque [Nm]',\n",
       "       'Tool wear [min]', 'Machine failure', 'TWF', 'HDF', 'PWF', 'OSF', 'RNF',\n",
       "       'Speed_new', 'Power', 'TF', 'TemperatureDifference',\n",
       "       'TemperatureRatio'],\n",
       "      dtype='object')"
      ]
     },
     "execution_count": 16,
     "metadata": {},
     "output_type": "execute_result"
    }
   ],
   "source": [
    "df.columns"
   ]
  },
  {
   "cell_type": "code",
   "execution_count": 17,
   "metadata": {
    "execution": {
     "iopub.execute_input": "2023-06-23T11:29:01.829736Z",
     "iopub.status.busy": "2023-06-23T11:29:01.829191Z",
     "iopub.status.idle": "2023-06-23T11:29:01.835379Z",
     "shell.execute_reply": "2023-06-23T11:29:01.834348Z"
    },
    "papermill": {
     "duration": 0.019236,
     "end_time": "2023-06-23T11:29:01.837772",
     "exception": false,
     "start_time": "2023-06-23T11:29:01.818536",
     "status": "completed"
    },
    "tags": []
   },
   "outputs": [],
   "source": [
    "X = ['Type', 'Air temperature [K]', 'Product ID',\n",
    "     'Process temperature [K]', 'Rotational speed [rpm]', 'Torque [Nm]',\n",
    "     'Tool wear [min]', 'TWF', 'HDF', 'PWF', 'OSF', 'RNF', 'Speed_new', 'Power', 'TF', \n",
    "     'TemperatureDifference', 'TemperatureRatio']\n",
    "y = ['Machine failure']\n",
    "cat_features = ['Type', 'Product ID']"
   ]
  },
  {
   "cell_type": "code",
   "execution_count": 18,
   "metadata": {
    "execution": {
     "iopub.execute_input": "2023-06-23T11:29:01.858291Z",
     "iopub.status.busy": "2023-06-23T11:29:01.857948Z",
     "iopub.status.idle": "2023-06-23T11:29:01.943894Z",
     "shell.execute_reply": "2023-06-23T11:29:01.942904Z"
    },
    "papermill": {
     "duration": 0.099153,
     "end_time": "2023-06-23T11:29:01.946377",
     "exception": false,
     "start_time": "2023-06-23T11:29:01.847224",
     "status": "completed"
    },
    "tags": []
   },
   "outputs": [],
   "source": [
    "train_data = Pool(data=train[X],\n",
    "                  label=train[y],\n",
    "                  cat_features=cat_features\n",
    "                 )\n",
    "valid_data = Pool(data=val[X],\n",
    "                  label=val[y],\n",
    "                  cat_features=cat_features\n",
    "                 )"
   ]
  },
  {
   "cell_type": "markdown",
   "metadata": {
    "papermill": {
     "duration": 0.008939,
     "end_time": "2023-06-23T11:29:01.964814",
     "exception": false,
     "start_time": "2023-06-23T11:29:01.955875",
     "status": "completed"
    },
    "tags": []
   },
   "source": [
    "# First model with validation"
   ]
  },
  {
   "cell_type": "code",
   "execution_count": 19,
   "metadata": {
    "execution": {
     "iopub.execute_input": "2023-06-23T11:29:01.984881Z",
     "iopub.status.busy": "2023-06-23T11:29:01.984486Z",
     "iopub.status.idle": "2023-06-23T11:29:01.990033Z",
     "shell.execute_reply": "2023-06-23T11:29:01.988548Z"
    },
    "papermill": {
     "duration": 0.018487,
     "end_time": "2023-06-23T11:29:01.992552",
     "exception": false,
     "start_time": "2023-06-23T11:29:01.974065",
     "status": "completed"
    },
    "tags": []
   },
   "outputs": [],
   "source": [
    "params = {'verbose':100,\n",
    "          'n_estimators': 1549,\n",
    "          'max_depth': 165,\n",
    "          'max_bin': 295,\n",
    "          'random_strength': 0.23,\n",
    "          'grow_policy': 'Lossguide',\n",
    "          'bootstrap_type': 'Bayesian',\n",
    "          'objective':'Logloss',\n",
    "          'loss_function': 'AUC',\n",
    "          'eval_metric': \"AUC\",\n",
    "          'l2_leaf_reg':  0.06876484483245901,\n",
    "          'min_child_samples': 185,\n",
    "          'random_seed':42,\n",
    "          'learning_rate': 0.00343900835845922}"
   ]
  },
  {
   "cell_type": "code",
   "execution_count": 20,
   "metadata": {
    "execution": {
     "iopub.execute_input": "2023-06-23T11:29:02.013725Z",
     "iopub.status.busy": "2023-06-23T11:29:02.013323Z",
     "iopub.status.idle": "2023-06-23T11:29:02.021838Z",
     "shell.execute_reply": "2023-06-23T11:29:02.019680Z"
    },
    "papermill": {
     "duration": 0.021997,
     "end_time": "2023-06-23T11:29:02.023998",
     "exception": false,
     "start_time": "2023-06-23T11:29:02.002001",
     "status": "completed"
    },
    "tags": []
   },
   "outputs": [],
   "source": [
    "model_1 = CatBoostClassifier(**params)"
   ]
  },
  {
   "cell_type": "code",
   "execution_count": 21,
   "metadata": {
    "execution": {
     "iopub.execute_input": "2023-06-23T11:29:02.046207Z",
     "iopub.status.busy": "2023-06-23T11:29:02.044900Z",
     "iopub.status.idle": "2023-06-23T11:30:20.199611Z",
     "shell.execute_reply": "2023-06-23T11:30:20.198436Z"
    },
    "papermill": {
     "duration": 78.169682,
     "end_time": "2023-06-23T11:30:20.203219",
     "exception": false,
     "start_time": "2023-06-23T11:29:02.033537",
     "status": "completed"
    },
    "tags": []
   },
   "outputs": [
    {
     "name": "stdout",
     "output_type": "stream",
     "text": [
      "0:\ttest: 0.9055491\tbest: 0.9055491 (0)\ttotal: 121ms\tremaining: 3m 6s\n",
      "100:\ttest: 0.9539225\tbest: 0.9564919 (41)\ttotal: 5.71s\tremaining: 1m 21s\n",
      "200:\ttest: 0.9611289\tbest: 0.9611289 (200)\ttotal: 11.1s\tremaining: 1m 14s\n",
      "300:\ttest: 0.9654992\tbest: 0.9654992 (300)\ttotal: 16.3s\tremaining: 1m 7s\n",
      "400:\ttest: 0.9681042\tbest: 0.9681042 (400)\ttotal: 21.5s\tremaining: 1m 1s\n",
      "500:\ttest: 0.9696262\tbest: 0.9696331 (499)\ttotal: 26.2s\tremaining: 54.8s\n",
      "600:\ttest: 0.9707507\tbest: 0.9707507 (600)\ttotal: 30.9s\tremaining: 48.8s\n",
      "700:\ttest: 0.9713390\tbest: 0.9713390 (700)\ttotal: 35.5s\tremaining: 42.9s\n",
      "800:\ttest: 0.9716601\tbest: 0.9716617 (798)\ttotal: 40s\tremaining: 37.3s\n",
      "900:\ttest: 0.9718486\tbest: 0.9718493 (864)\ttotal: 44.6s\tremaining: 32.1s\n",
      "1000:\ttest: 0.9720532\tbest: 0.9720562 (998)\ttotal: 49.3s\tremaining: 27s\n",
      "1100:\ttest: 0.9722349\tbest: 0.9722349 (1100)\ttotal: 54.5s\tremaining: 22.2s\n",
      "1200:\ttest: 0.9724074\tbest: 0.9724074 (1200)\ttotal: 59.6s\tremaining: 17.3s\n",
      "1300:\ttest: 0.9725783\tbest: 0.9725785 (1296)\ttotal: 1m 4s\tremaining: 12.3s\n",
      "1400:\ttest: 0.9726810\tbest: 0.9726988 (1358)\ttotal: 1m 9s\tremaining: 7.37s\n",
      "1500:\ttest: 0.9728445\tbest: 0.9728536 (1497)\ttotal: 1m 15s\tremaining: 2.4s\n",
      "1548:\ttest: 0.9728798\tbest: 0.9728837 (1545)\ttotal: 1m 17s\tremaining: 0us\n",
      "\n",
      "bestTest = 0.9728836742\n",
      "bestIteration = 1545\n",
      "\n",
      "Shrink model to first 1546 iterations.\n"
     ]
    },
    {
     "data": {
      "text/plain": [
       "<catboost.core.CatBoostClassifier at 0x79878c941990>"
      ]
     },
     "execution_count": 21,
     "metadata": {},
     "output_type": "execute_result"
    }
   ],
   "source": [
    "model_1.fit(train_data, eval_set=valid_data)"
   ]
  },
  {
   "cell_type": "code",
   "execution_count": 22,
   "metadata": {
    "execution": {
     "iopub.execute_input": "2023-06-23T11:30:20.226966Z",
     "iopub.status.busy": "2023-06-23T11:30:20.226575Z",
     "iopub.status.idle": "2023-06-23T11:30:20.536624Z",
     "shell.execute_reply": "2023-06-23T11:30:20.535194Z"
    },
    "papermill": {
     "duration": 0.324908,
     "end_time": "2023-06-23T11:30:20.539320",
     "exception": false,
     "start_time": "2023-06-23T11:30:20.214412",
     "status": "completed"
    },
    "tags": []
   },
   "outputs": [],
   "source": [
    "test['pred_1'] = model_1.predict(test[X])"
   ]
  },
  {
   "cell_type": "code",
   "execution_count": 23,
   "metadata": {
    "execution": {
     "iopub.execute_input": "2023-06-23T11:30:20.563389Z",
     "iopub.status.busy": "2023-06-23T11:30:20.562966Z",
     "iopub.status.idle": "2023-06-23T11:30:20.603939Z",
     "shell.execute_reply": "2023-06-23T11:30:20.602654Z"
    },
    "papermill": {
     "duration": 0.056398,
     "end_time": "2023-06-23T11:30:20.606867",
     "exception": false,
     "start_time": "2023-06-23T11:30:20.550469",
     "status": "completed"
    },
    "tags": []
   },
   "outputs": [
    {
     "data": {
      "text/html": [
       "<div>\n",
       "<style scoped>\n",
       "    .dataframe tbody tr th:only-of-type {\n",
       "        vertical-align: middle;\n",
       "    }\n",
       "\n",
       "    .dataframe tbody tr th {\n",
       "        vertical-align: top;\n",
       "    }\n",
       "\n",
       "    .dataframe thead th {\n",
       "        text-align: right;\n",
       "    }\n",
       "</style>\n",
       "<table border=\"1\" class=\"dataframe\">\n",
       "  <thead>\n",
       "    <tr style=\"text-align: right;\">\n",
       "      <th></th>\n",
       "      <th>id</th>\n",
       "      <th>Product ID</th>\n",
       "      <th>Type</th>\n",
       "      <th>Air temperature [K]</th>\n",
       "      <th>Process temperature [K]</th>\n",
       "      <th>Rotational speed [rpm]</th>\n",
       "      <th>Torque [Nm]</th>\n",
       "      <th>Tool wear [min]</th>\n",
       "      <th>Machine failure</th>\n",
       "      <th>TWF</th>\n",
       "      <th>HDF</th>\n",
       "      <th>PWF</th>\n",
       "      <th>OSF</th>\n",
       "      <th>RNF</th>\n",
       "      <th>Speed_new</th>\n",
       "      <th>Power</th>\n",
       "      <th>TF</th>\n",
       "      <th>TemperatureDifference</th>\n",
       "      <th>TemperatureRatio</th>\n",
       "      <th>pred_1</th>\n",
       "    </tr>\n",
       "  </thead>\n",
       "  <tbody>\n",
       "    <tr>\n",
       "      <th>108143</th>\n",
       "      <td>108143</td>\n",
       "      <td>L51820</td>\n",
       "      <td>L</td>\n",
       "      <td>303.3</td>\n",
       "      <td>311.2</td>\n",
       "      <td>1619</td>\n",
       "      <td>31.1</td>\n",
       "      <td>219</td>\n",
       "      <td>0</td>\n",
       "      <td>0</td>\n",
       "      <td>0</td>\n",
       "      <td>0</td>\n",
       "      <td>0</td>\n",
       "      <td>0</td>\n",
       "      <td>7.389564</td>\n",
       "      <td>50350.9</td>\n",
       "      <td>0</td>\n",
       "      <td>7.9</td>\n",
       "      <td>1.026047</td>\n",
       "      <td>0</td>\n",
       "    </tr>\n",
       "    <tr>\n",
       "      <th>124027</th>\n",
       "      <td>124027</td>\n",
       "      <td>L56933</td>\n",
       "      <td>L</td>\n",
       "      <td>298.5</td>\n",
       "      <td>309.8</td>\n",
       "      <td>1663</td>\n",
       "      <td>36.1</td>\n",
       "      <td>203</td>\n",
       "      <td>0</td>\n",
       "      <td>0</td>\n",
       "      <td>0</td>\n",
       "      <td>0</td>\n",
       "      <td>0</td>\n",
       "      <td>0</td>\n",
       "      <td>7.416378</td>\n",
       "      <td>60034.3</td>\n",
       "      <td>0</td>\n",
       "      <td>11.3</td>\n",
       "      <td>1.037856</td>\n",
       "      <td>0</td>\n",
       "    </tr>\n",
       "    <tr>\n",
       "      <th>40415</th>\n",
       "      <td>40415</td>\n",
       "      <td>M16054</td>\n",
       "      <td>M</td>\n",
       "      <td>297.0</td>\n",
       "      <td>308.1</td>\n",
       "      <td>1548</td>\n",
       "      <td>38.2</td>\n",
       "      <td>0</td>\n",
       "      <td>0</td>\n",
       "      <td>0</td>\n",
       "      <td>0</td>\n",
       "      <td>0</td>\n",
       "      <td>0</td>\n",
       "      <td>0</td>\n",
       "      <td>7.344719</td>\n",
       "      <td>59133.6</td>\n",
       "      <td>0</td>\n",
       "      <td>11.1</td>\n",
       "      <td>1.037374</td>\n",
       "      <td>0</td>\n",
       "    </tr>\n",
       "    <tr>\n",
       "      <th>5055</th>\n",
       "      <td>5055</td>\n",
       "      <td>L48448</td>\n",
       "      <td>L</td>\n",
       "      <td>298.0</td>\n",
       "      <td>309.5</td>\n",
       "      <td>1599</td>\n",
       "      <td>35.7</td>\n",
       "      <td>51</td>\n",
       "      <td>0</td>\n",
       "      <td>0</td>\n",
       "      <td>0</td>\n",
       "      <td>0</td>\n",
       "      <td>0</td>\n",
       "      <td>0</td>\n",
       "      <td>7.377134</td>\n",
       "      <td>57084.3</td>\n",
       "      <td>0</td>\n",
       "      <td>11.5</td>\n",
       "      <td>1.038591</td>\n",
       "      <td>0</td>\n",
       "    </tr>\n",
       "    <tr>\n",
       "      <th>75315</th>\n",
       "      <td>75315</td>\n",
       "      <td>L47982</td>\n",
       "      <td>L</td>\n",
       "      <td>296.9</td>\n",
       "      <td>307.8</td>\n",
       "      <td>1567</td>\n",
       "      <td>35.0</td>\n",
       "      <td>121</td>\n",
       "      <td>0</td>\n",
       "      <td>0</td>\n",
       "      <td>0</td>\n",
       "      <td>0</td>\n",
       "      <td>0</td>\n",
       "      <td>0</td>\n",
       "      <td>7.356918</td>\n",
       "      <td>54845.0</td>\n",
       "      <td>0</td>\n",
       "      <td>10.9</td>\n",
       "      <td>1.036713</td>\n",
       "      <td>0</td>\n",
       "    </tr>\n",
       "    <tr>\n",
       "      <th>...</th>\n",
       "      <td>...</td>\n",
       "      <td>...</td>\n",
       "      <td>...</td>\n",
       "      <td>...</td>\n",
       "      <td>...</td>\n",
       "      <td>...</td>\n",
       "      <td>...</td>\n",
       "      <td>...</td>\n",
       "      <td>...</td>\n",
       "      <td>...</td>\n",
       "      <td>...</td>\n",
       "      <td>...</td>\n",
       "      <td>...</td>\n",
       "      <td>...</td>\n",
       "      <td>...</td>\n",
       "      <td>...</td>\n",
       "      <td>...</td>\n",
       "      <td>...</td>\n",
       "      <td>...</td>\n",
       "      <td>...</td>\n",
       "    </tr>\n",
       "    <tr>\n",
       "      <th>21222</th>\n",
       "      <td>21222</td>\n",
       "      <td>M20620</td>\n",
       "      <td>M</td>\n",
       "      <td>301.9</td>\n",
       "      <td>311.3</td>\n",
       "      <td>1775</td>\n",
       "      <td>26.7</td>\n",
       "      <td>181</td>\n",
       "      <td>0</td>\n",
       "      <td>0</td>\n",
       "      <td>0</td>\n",
       "      <td>0</td>\n",
       "      <td>0</td>\n",
       "      <td>0</td>\n",
       "      <td>7.481556</td>\n",
       "      <td>47392.5</td>\n",
       "      <td>0</td>\n",
       "      <td>9.4</td>\n",
       "      <td>1.031136</td>\n",
       "      <td>0</td>\n",
       "    </tr>\n",
       "    <tr>\n",
       "      <th>999</th>\n",
       "      <td>999</td>\n",
       "      <td>L48290</td>\n",
       "      <td>L</td>\n",
       "      <td>296.5</td>\n",
       "      <td>307.6</td>\n",
       "      <td>1513</td>\n",
       "      <td>40.9</td>\n",
       "      <td>62</td>\n",
       "      <td>0</td>\n",
       "      <td>0</td>\n",
       "      <td>0</td>\n",
       "      <td>0</td>\n",
       "      <td>0</td>\n",
       "      <td>0</td>\n",
       "      <td>7.321850</td>\n",
       "      <td>61881.7</td>\n",
       "      <td>0</td>\n",
       "      <td>11.1</td>\n",
       "      <td>1.037437</td>\n",
       "      <td>0</td>\n",
       "    </tr>\n",
       "    <tr>\n",
       "      <th>111774</th>\n",
       "      <td>111774</td>\n",
       "      <td>L54248</td>\n",
       "      <td>L</td>\n",
       "      <td>300.8</td>\n",
       "      <td>310.7</td>\n",
       "      <td>1461</td>\n",
       "      <td>40.1</td>\n",
       "      <td>173</td>\n",
       "      <td>0</td>\n",
       "      <td>0</td>\n",
       "      <td>0</td>\n",
       "      <td>0</td>\n",
       "      <td>0</td>\n",
       "      <td>0</td>\n",
       "      <td>7.286876</td>\n",
       "      <td>58586.1</td>\n",
       "      <td>0</td>\n",
       "      <td>9.9</td>\n",
       "      <td>1.032912</td>\n",
       "      <td>0</td>\n",
       "    </tr>\n",
       "    <tr>\n",
       "      <th>85390</th>\n",
       "      <td>85390</td>\n",
       "      <td>H35963</td>\n",
       "      <td>H</td>\n",
       "      <td>301.4</td>\n",
       "      <td>310.6</td>\n",
       "      <td>1623</td>\n",
       "      <td>31.4</td>\n",
       "      <td>170</td>\n",
       "      <td>0</td>\n",
       "      <td>0</td>\n",
       "      <td>0</td>\n",
       "      <td>0</td>\n",
       "      <td>0</td>\n",
       "      <td>0</td>\n",
       "      <td>7.392032</td>\n",
       "      <td>50962.2</td>\n",
       "      <td>0</td>\n",
       "      <td>9.2</td>\n",
       "      <td>1.030524</td>\n",
       "      <td>0</td>\n",
       "    </tr>\n",
       "    <tr>\n",
       "      <th>37328</th>\n",
       "      <td>37328</td>\n",
       "      <td>L52551</td>\n",
       "      <td>L</td>\n",
       "      <td>302.9</td>\n",
       "      <td>312.3</td>\n",
       "      <td>2090</td>\n",
       "      <td>19.7</td>\n",
       "      <td>2</td>\n",
       "      <td>0</td>\n",
       "      <td>0</td>\n",
       "      <td>0</td>\n",
       "      <td>0</td>\n",
       "      <td>0</td>\n",
       "      <td>0</td>\n",
       "      <td>7.644919</td>\n",
       "      <td>41173.0</td>\n",
       "      <td>0</td>\n",
       "      <td>9.4</td>\n",
       "      <td>1.031033</td>\n",
       "      <td>0</td>\n",
       "    </tr>\n",
       "  </tbody>\n",
       "</table>\n",
       "<p>27286 rows × 20 columns</p>\n",
       "</div>"
      ],
      "text/plain": [
       "            id Product ID Type  Air temperature [K]  Process temperature [K]  \\\n",
       "108143  108143     L51820    L                303.3                    311.2   \n",
       "124027  124027     L56933    L                298.5                    309.8   \n",
       "40415    40415     M16054    M                297.0                    308.1   \n",
       "5055      5055     L48448    L                298.0                    309.5   \n",
       "75315    75315     L47982    L                296.9                    307.8   \n",
       "...        ...        ...  ...                  ...                      ...   \n",
       "21222    21222     M20620    M                301.9                    311.3   \n",
       "999        999     L48290    L                296.5                    307.6   \n",
       "111774  111774     L54248    L                300.8                    310.7   \n",
       "85390    85390     H35963    H                301.4                    310.6   \n",
       "37328    37328     L52551    L                302.9                    312.3   \n",
       "\n",
       "        Rotational speed [rpm]  Torque [Nm]  Tool wear [min]  Machine failure  \\\n",
       "108143                    1619         31.1              219                0   \n",
       "124027                    1663         36.1              203                0   \n",
       "40415                     1548         38.2                0                0   \n",
       "5055                      1599         35.7               51                0   \n",
       "75315                     1567         35.0              121                0   \n",
       "...                        ...          ...              ...              ...   \n",
       "21222                     1775         26.7              181                0   \n",
       "999                       1513         40.9               62                0   \n",
       "111774                    1461         40.1              173                0   \n",
       "85390                     1623         31.4              170                0   \n",
       "37328                     2090         19.7                2                0   \n",
       "\n",
       "        TWF  HDF  PWF  OSF  RNF  Speed_new    Power  TF  \\\n",
       "108143    0    0    0    0    0   7.389564  50350.9   0   \n",
       "124027    0    0    0    0    0   7.416378  60034.3   0   \n",
       "40415     0    0    0    0    0   7.344719  59133.6   0   \n",
       "5055      0    0    0    0    0   7.377134  57084.3   0   \n",
       "75315     0    0    0    0    0   7.356918  54845.0   0   \n",
       "...     ...  ...  ...  ...  ...        ...      ...  ..   \n",
       "21222     0    0    0    0    0   7.481556  47392.5   0   \n",
       "999       0    0    0    0    0   7.321850  61881.7   0   \n",
       "111774    0    0    0    0    0   7.286876  58586.1   0   \n",
       "85390     0    0    0    0    0   7.392032  50962.2   0   \n",
       "37328     0    0    0    0    0   7.644919  41173.0   0   \n",
       "\n",
       "        TemperatureDifference  TemperatureRatio  pred_1  \n",
       "108143                    7.9          1.026047       0  \n",
       "124027                   11.3          1.037856       0  \n",
       "40415                    11.1          1.037374       0  \n",
       "5055                     11.5          1.038591       0  \n",
       "75315                    10.9          1.036713       0  \n",
       "...                       ...               ...     ...  \n",
       "21222                     9.4          1.031136       0  \n",
       "999                      11.1          1.037437       0  \n",
       "111774                    9.9          1.032912       0  \n",
       "85390                     9.2          1.030524       0  \n",
       "37328                     9.4          1.031033       0  \n",
       "\n",
       "[27286 rows x 20 columns]"
      ]
     },
     "execution_count": 23,
     "metadata": {},
     "output_type": "execute_result"
    }
   ],
   "source": [
    "test"
   ]
  },
  {
   "cell_type": "code",
   "execution_count": 24,
   "metadata": {
    "execution": {
     "iopub.execute_input": "2023-06-23T11:30:20.632278Z",
     "iopub.status.busy": "2023-06-23T11:30:20.631872Z",
     "iopub.status.idle": "2023-06-23T11:30:20.644592Z",
     "shell.execute_reply": "2023-06-23T11:30:20.643125Z"
    },
    "papermill": {
     "duration": 0.028151,
     "end_time": "2023-06-23T11:30:20.647180",
     "exception": false,
     "start_time": "2023-06-23T11:30:20.619029",
     "status": "completed"
    },
    "tags": []
   },
   "outputs": [
    {
     "data": {
      "text/plain": [
       "0.9961518727552591"
      ]
     },
     "execution_count": 24,
     "metadata": {},
     "output_type": "execute_result"
    }
   ],
   "source": [
    "accuracy_score(test['Machine failure'], test['pred_1'])"
   ]
  },
  {
   "cell_type": "markdown",
   "metadata": {
    "papermill": {
     "duration": 0.010625,
     "end_time": "2023-06-23T11:30:20.668882",
     "exception": false,
     "start_time": "2023-06-23T11:30:20.658257",
     "status": "completed"
    },
    "tags": []
   },
   "source": [
    "# Now let's train model on full data"
   ]
  },
  {
   "cell_type": "code",
   "execution_count": 25,
   "metadata": {
    "execution": {
     "iopub.execute_input": "2023-06-23T11:30:20.692474Z",
     "iopub.status.busy": "2023-06-23T11:30:20.692131Z",
     "iopub.status.idle": "2023-06-23T11:30:20.708607Z",
     "shell.execute_reply": "2023-06-23T11:30:20.706792Z"
    },
    "papermill": {
     "duration": 0.031247,
     "end_time": "2023-06-23T11:30:20.711192",
     "exception": false,
     "start_time": "2023-06-23T11:30:20.679945",
     "status": "completed"
    },
    "tags": []
   },
   "outputs": [],
   "source": [
    "train_full = pd.concat([train, val])"
   ]
  },
  {
   "cell_type": "code",
   "execution_count": 26,
   "metadata": {
    "execution": {
     "iopub.execute_input": "2023-06-23T11:30:20.735981Z",
     "iopub.status.busy": "2023-06-23T11:30:20.735611Z",
     "iopub.status.idle": "2023-06-23T11:30:20.744033Z",
     "shell.execute_reply": "2023-06-23T11:30:20.742296Z"
    },
    "papermill": {
     "duration": 0.024488,
     "end_time": "2023-06-23T11:30:20.747052",
     "exception": false,
     "start_time": "2023-06-23T11:30:20.722564",
     "status": "completed"
    },
    "tags": []
   },
   "outputs": [
    {
     "data": {
      "text/plain": [
       "1545"
      ]
     },
     "execution_count": 26,
     "metadata": {},
     "output_type": "execute_result"
    }
   ],
   "source": [
    "model_1.best_iteration_"
   ]
  },
  {
   "cell_type": "code",
   "execution_count": 27,
   "metadata": {
    "execution": {
     "iopub.execute_input": "2023-06-23T11:30:20.771748Z",
     "iopub.status.busy": "2023-06-23T11:30:20.771398Z",
     "iopub.status.idle": "2023-06-23T11:30:20.777175Z",
     "shell.execute_reply": "2023-06-23T11:30:20.775854Z"
    },
    "papermill": {
     "duration": 0.020859,
     "end_time": "2023-06-23T11:30:20.779604",
     "exception": false,
     "start_time": "2023-06-23T11:30:20.758745",
     "status": "completed"
    },
    "tags": []
   },
   "outputs": [],
   "source": [
    "params_2 = {'verbose':100,\n",
    "            'random_seed':42,\n",
    "            'verbose':100,\n",
    "            'n_estimators': 1549,\n",
    "            'max_depth': 165,\n",
    "            'max_bin': 295,\n",
    "            'random_strength': 0.23,\n",
    "            'grow_policy': 'Lossguide',\n",
    "            'bootstrap_type': 'Bayesian',\n",
    "            'objective':'Logloss',\n",
    "            'loss_function': 'AUC',\n",
    "            'eval_metric': \"AUC\",\n",
    "            'l2_leaf_reg':  0.06876484483245901,\n",
    "            'min_child_samples': 185,\n",
    "            'cat_features': cat_features,\n",
    "            'learning_rate': 0.00343900835845922}"
   ]
  },
  {
   "cell_type": "code",
   "execution_count": 28,
   "metadata": {
    "execution": {
     "iopub.execute_input": "2023-06-23T11:30:20.804090Z",
     "iopub.status.busy": "2023-06-23T11:30:20.803691Z",
     "iopub.status.idle": "2023-06-23T11:30:20.810150Z",
     "shell.execute_reply": "2023-06-23T11:30:20.807988Z"
    },
    "papermill": {
     "duration": 0.021632,
     "end_time": "2023-06-23T11:30:20.812684",
     "exception": false,
     "start_time": "2023-06-23T11:30:20.791052",
     "status": "completed"
    },
    "tags": []
   },
   "outputs": [],
   "source": [
    "model_2 = CatBoostClassifier(**params_2)"
   ]
  },
  {
   "cell_type": "code",
   "execution_count": 29,
   "metadata": {
    "execution": {
     "iopub.execute_input": "2023-06-23T11:30:20.838176Z",
     "iopub.status.busy": "2023-06-23T11:30:20.837795Z",
     "iopub.status.idle": "2023-06-23T11:31:49.705960Z",
     "shell.execute_reply": "2023-06-23T11:31:49.704539Z"
    },
    "papermill": {
     "duration": 88.884594,
     "end_time": "2023-06-23T11:31:49.708661",
     "exception": false,
     "start_time": "2023-06-23T11:30:20.824067",
     "status": "completed"
    },
    "tags": []
   },
   "outputs": [
    {
     "name": "stdout",
     "output_type": "stream",
     "text": [
      "0:\ttotal: 80.7ms\tremaining: 2m 4s\n",
      "100:\ttotal: 6.88s\tremaining: 1m 38s\n",
      "200:\ttotal: 13.3s\tremaining: 1m 29s\n",
      "300:\ttotal: 19.5s\tremaining: 1m 20s\n",
      "400:\ttotal: 25.2s\tremaining: 1m 12s\n",
      "500:\ttotal: 30.4s\tremaining: 1m 3s\n",
      "600:\ttotal: 35.6s\tremaining: 56.2s\n",
      "700:\ttotal: 40.9s\tremaining: 49.5s\n",
      "800:\ttotal: 46.1s\tremaining: 43s\n",
      "900:\ttotal: 51.4s\tremaining: 36.9s\n",
      "1000:\ttotal: 56.7s\tremaining: 31s\n",
      "1100:\ttotal: 1m 2s\tremaining: 25.3s\n",
      "1200:\ttotal: 1m 8s\tremaining: 19.7s\n",
      "1300:\ttotal: 1m 13s\tremaining: 14s\n",
      "1400:\ttotal: 1m 19s\tremaining: 8.41s\n",
      "1500:\ttotal: 1m 25s\tremaining: 2.74s\n",
      "1548:\ttotal: 1m 28s\tremaining: 0us\n"
     ]
    },
    {
     "data": {
      "text/plain": [
       "<catboost.core.CatBoostClassifier at 0x79878c778610>"
      ]
     },
     "execution_count": 29,
     "metadata": {},
     "output_type": "execute_result"
    }
   ],
   "source": [
    "model_2.fit(train_full[X], train_full[y])"
   ]
  },
  {
   "cell_type": "code",
   "execution_count": 30,
   "metadata": {
    "execution": {
     "iopub.execute_input": "2023-06-23T11:31:49.734651Z",
     "iopub.status.busy": "2023-06-23T11:31:49.734324Z",
     "iopub.status.idle": "2023-06-23T11:31:50.014539Z",
     "shell.execute_reply": "2023-06-23T11:31:50.013094Z"
    },
    "papermill": {
     "duration": 0.296483,
     "end_time": "2023-06-23T11:31:50.017378",
     "exception": false,
     "start_time": "2023-06-23T11:31:49.720895",
     "status": "completed"
    },
    "tags": []
   },
   "outputs": [],
   "source": [
    "test['pred_2'] = model_2.predict(test[X])"
   ]
  },
  {
   "cell_type": "code",
   "execution_count": 31,
   "metadata": {
    "execution": {
     "iopub.execute_input": "2023-06-23T11:31:50.044877Z",
     "iopub.status.busy": "2023-06-23T11:31:50.044288Z",
     "iopub.status.idle": "2023-06-23T11:31:50.053300Z",
     "shell.execute_reply": "2023-06-23T11:31:50.051660Z"
    },
    "papermill": {
     "duration": 0.026385,
     "end_time": "2023-06-23T11:31:50.056257",
     "exception": false,
     "start_time": "2023-06-23T11:31:50.029872",
     "status": "completed"
    },
    "tags": []
   },
   "outputs": [
    {
     "data": {
      "text/plain": [
       "0.9963351169097706"
      ]
     },
     "execution_count": 31,
     "metadata": {},
     "output_type": "execute_result"
    }
   ],
   "source": [
    "accuracy_score(test['Machine failure'], test['pred_2'])"
   ]
  },
  {
   "cell_type": "markdown",
   "metadata": {
    "papermill": {
     "duration": 0.012206,
     "end_time": "2023-06-23T11:31:50.080963",
     "exception": false,
     "start_time": "2023-06-23T11:31:50.068757",
     "status": "completed"
    },
    "tags": []
   },
   "source": [
    "# Prediction to submission"
   ]
  },
  {
   "cell_type": "code",
   "execution_count": 32,
   "metadata": {
    "execution": {
     "iopub.execute_input": "2023-06-23T11:31:50.110967Z",
     "iopub.status.busy": "2023-06-23T11:31:50.110582Z",
     "iopub.status.idle": "2023-06-23T11:31:51.002271Z",
     "shell.execute_reply": "2023-06-23T11:31:51.000725Z"
    },
    "papermill": {
     "duration": 0.910408,
     "end_time": "2023-06-23T11:31:51.005305",
     "exception": false,
     "start_time": "2023-06-23T11:31:50.094897",
     "status": "completed"
    },
    "tags": []
   },
   "outputs": [],
   "source": [
    "submission['Machine failure'] = model_2.predict(submission[X])"
   ]
  },
  {
   "cell_type": "code",
   "execution_count": 33,
   "metadata": {
    "execution": {
     "iopub.execute_input": "2023-06-23T11:31:51.034157Z",
     "iopub.status.busy": "2023-06-23T11:31:51.033746Z",
     "iopub.status.idle": "2023-06-23T11:31:51.042122Z",
     "shell.execute_reply": "2023-06-23T11:31:51.041116Z"
    },
    "papermill": {
     "duration": 0.026447,
     "end_time": "2023-06-23T11:31:51.044688",
     "exception": false,
     "start_time": "2023-06-23T11:31:51.018241",
     "status": "completed"
    },
    "tags": []
   },
   "outputs": [
    {
     "data": {
      "text/plain": [
       "0.012401873474503595"
      ]
     },
     "execution_count": 33,
     "metadata": {},
     "output_type": "execute_result"
    }
   ],
   "source": [
    "submission['Machine failure'].mean()"
   ]
  },
  {
   "cell_type": "code",
   "execution_count": 34,
   "metadata": {
    "execution": {
     "iopub.execute_input": "2023-06-23T11:31:51.072425Z",
     "iopub.status.busy": "2023-06-23T11:31:51.072007Z",
     "iopub.status.idle": "2023-06-23T11:31:51.086656Z",
     "shell.execute_reply": "2023-06-23T11:31:51.085388Z"
    },
    "papermill": {
     "duration": 0.031812,
     "end_time": "2023-06-23T11:31:51.089574",
     "exception": false,
     "start_time": "2023-06-23T11:31:51.057762",
     "status": "completed"
    },
    "tags": []
   },
   "outputs": [
    {
     "data": {
      "text/html": [
       "<div>\n",
       "<style scoped>\n",
       "    .dataframe tbody tr th:only-of-type {\n",
       "        vertical-align: middle;\n",
       "    }\n",
       "\n",
       "    .dataframe tbody tr th {\n",
       "        vertical-align: top;\n",
       "    }\n",
       "\n",
       "    .dataframe thead th {\n",
       "        text-align: right;\n",
       "    }\n",
       "</style>\n",
       "<table border=\"1\" class=\"dataframe\">\n",
       "  <thead>\n",
       "    <tr style=\"text-align: right;\">\n",
       "      <th></th>\n",
       "      <th>id</th>\n",
       "      <th>Machine failure</th>\n",
       "    </tr>\n",
       "  </thead>\n",
       "  <tbody>\n",
       "    <tr>\n",
       "      <th>0</th>\n",
       "      <td>136429</td>\n",
       "      <td>0</td>\n",
       "    </tr>\n",
       "    <tr>\n",
       "      <th>1</th>\n",
       "      <td>136430</td>\n",
       "      <td>0</td>\n",
       "    </tr>\n",
       "    <tr>\n",
       "      <th>2</th>\n",
       "      <td>136431</td>\n",
       "      <td>0</td>\n",
       "    </tr>\n",
       "    <tr>\n",
       "      <th>3</th>\n",
       "      <td>136432</td>\n",
       "      <td>0</td>\n",
       "    </tr>\n",
       "    <tr>\n",
       "      <th>4</th>\n",
       "      <td>136433</td>\n",
       "      <td>0</td>\n",
       "    </tr>\n",
       "  </tbody>\n",
       "</table>\n",
       "</div>"
      ],
      "text/plain": [
       "       id  Machine failure\n",
       "0  136429                0\n",
       "1  136430                0\n",
       "2  136431                0\n",
       "3  136432                0\n",
       "4  136433                0"
      ]
     },
     "execution_count": 34,
     "metadata": {},
     "output_type": "execute_result"
    }
   ],
   "source": [
    "sub = submission[['id','Machine failure']]\n",
    "sub.head(5)"
   ]
  },
  {
   "cell_type": "code",
   "execution_count": 35,
   "metadata": {
    "execution": {
     "iopub.execute_input": "2023-06-23T11:31:51.116609Z",
     "iopub.status.busy": "2023-06-23T11:31:51.116229Z",
     "iopub.status.idle": "2023-06-23T11:31:51.212347Z",
     "shell.execute_reply": "2023-06-23T11:31:51.210684Z"
    },
    "papermill": {
     "duration": 0.112479,
     "end_time": "2023-06-23T11:31:51.214904",
     "exception": false,
     "start_time": "2023-06-23T11:31:51.102425",
     "status": "completed"
    },
    "tags": []
   },
   "outputs": [],
   "source": [
    "sub.to_csv('sub_machine_failures.csv', index=False)"
   ]
  }
 ],
 "metadata": {
  "kernelspec": {
   "display_name": "Python 3",
   "language": "python",
   "name": "python3"
  },
  "language_info": {
   "codemirror_mode": {
    "name": "ipython",
    "version": 3
   },
   "file_extension": ".py",
   "mimetype": "text/x-python",
   "name": "python",
   "nbconvert_exporter": "python",
   "pygments_lexer": "ipython3",
   "version": "3.8.3"
  },
  "papermill": {
   "default_parameters": {},
   "duration": 210.573995,
   "end_time": "2023-06-23T11:31:53.852352",
   "environment_variables": {},
   "exception": null,
   "input_path": "__notebook__.ipynb",
   "output_path": "__notebook__.ipynb",
   "parameters": {},
   "start_time": "2023-06-23T11:28:23.278357",
   "version": "2.4.0"
  }
 },
 "nbformat": 4,
 "nbformat_minor": 5
}
